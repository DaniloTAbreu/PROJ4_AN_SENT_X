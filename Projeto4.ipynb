{
 "cells": [
  {
   "cell_type": "markdown",
   "id": "c99752af",
   "metadata": {},
   "source": [
    "# PROJETO 4 - FORMAÇÃO CIENTISTA DE DADOS 3.0 "
   ]
  },
  {
   "cell_type": "markdown",
   "id": "28c5c511",
   "metadata": {},
   "source": [
    "# DANILO TEMERLOGLOU DE ABREU"
   ]
  },
  {
   "cell_type": "markdown",
   "id": "c005012e",
   "metadata": {},
   "source": [
    "# Através da análise de Tweets sobre o ChatGPT você deve construir um processo de análise que permita identificar o sentimento que predomina, especialmente no Twitter, sobre o ChatGPT"
   ]
  },
  {
   "cell_type": "code",
   "execution_count": 1,
   "id": "e90b7220",
   "metadata": {},
   "outputs": [
    {
     "name": "stdout",
     "output_type": "stream",
     "text": [
      "Versão da Linguagem Python Usada Neste Jupyter Notebook: 3.9.13\n"
     ]
    }
   ],
   "source": [
    "# Versão da Linguagem Python\n",
    "from platform import python_version\n",
    "print('Versão da Linguagem Python Usada Neste Jupyter Notebook:', python_version())"
   ]
  },
  {
   "cell_type": "markdown",
   "id": "f7a85714",
   "metadata": {},
   "source": [
    "# 1 - Instalação dos pacotes necessários"
   ]
  },
  {
   "cell_type": "code",
   "execution_count": 2,
   "id": "d648b87e",
   "metadata": {},
   "outputs": [],
   "source": [
    "#!pip install -q -U nltk\n",
    "#!pip install -q -U textblob\n",
    "#!pip install vaderSentiment\n",
    "#!pip install -q numpy == 1.21.6\n",
    "#!python -m pip install --upgrade pip\n",
    "#!pip install -q spacy\n",
    "#!pip install vaderSentiment\n",
    "#!pip install pyspark\n",
    "#!pip install wordcloud"
   ]
  },
  {
   "cell_type": "markdown",
   "id": "43ef4d0e",
   "metadata": {},
   "source": [
    "# 2 - Criando ambiente"
   ]
  },
  {
   "cell_type": "code",
   "execution_count": 3,
   "id": "11ad4c40",
   "metadata": {},
   "outputs": [],
   "source": [
    "import os\n",
    "import sys\n",
    "\n",
    "os.environ['PYSPARK_PYTHON'] = sys.executable\n",
    "os.environ['PYSPARK_DRIVER_PYTHON'] = sys.executable"
   ]
  },
  {
   "cell_type": "markdown",
   "id": "149ecbb4",
   "metadata": {},
   "source": [
    "# 3 - Importando os pacotes"
   ]
  },
  {
   "cell_type": "code",
   "execution_count": 4,
   "id": "b8b4e10b",
   "metadata": {},
   "outputs": [],
   "source": [
    "from pyspark import SparkContext\n",
    "from pyspark.sql import SparkSession\n",
    "from pyspark.sql.types import *\n",
    "from pyspark.sql.types import FloatType\n",
    "from pyspark.sql.types import StringType\n",
    "from nltk.sentiment.vader import SentimentIntensityAnalyzer\n",
    "from pyspark.sql.functions import udf, col, lower, regexp_replace\n",
    "from pyspark.ml.feature import Tokenizer, StopWordsRemover\n",
    "from nltk.stem.snowball import SnowballStemmer\n",
    "from functools import reduce\n",
    "import nltk\n",
    "from nltk.corpus import stopwords\n",
    "from nltk.stem import WordNetLemmatizer\n",
    "from nltk.corpus import sentiwordnet as swn\n",
    "from nltk.tokenize import sent_tokenize\n",
    "from nltk.sentiment import SentimentIntensityAnalyzer\n",
    "from vaderSentiment.vaderSentiment import SentimentIntensityAnalyzer\n",
    "import matplotlib.pyplot as plt\n",
    "import seaborn as sns\n",
    "import pandas as pd\n",
    "import re\n",
    "import string\n",
    "import datetime\n",
    "\n",
    "\n",
    "\n",
    "#import numpy as np\n",
    "#import spacy\n",
    "#from vaderSentiment.vaderSentiment import SentimentIntensityAnalyzer\n",
    "#from bs4 import BeautifulSoup # para o pré-processamento\n",
    "#from pyspark.ml.feature import Tokenizer, StopWordsRemover, CountVectorizer\n",
    "#from pyspark.ml.classification import NaiveBayes\n",
    "#from pyspark.ml import Pipeline\n",
    "#from pyspark.sql.functions import col"
   ]
  },
  {
   "cell_type": "markdown",
   "id": "0a2b19d9",
   "metadata": {},
   "source": [
    "# 4 - Versões dos pacotes usados neste jupyter notebook"
   ]
  },
  {
   "cell_type": "code",
   "execution_count": 5,
   "id": "e54c8ebc",
   "metadata": {},
   "outputs": [
    {
     "name": "stdout",
     "output_type": "stream",
     "text": [
      "Author: Danilo Temerloglou de Abreu\n",
      "\n",
      "pandas    : 1.3.4\n",
      "seaborn   : 0.12.2\n",
      "re        : 2.2.1\n",
      "sys       : 3.9.13 (main, Aug 25 2022, 23:51:50) [MSC v.1916 64 bit (AMD64)]\n",
      "nltk      : 3.8.1\n",
      "matplotlib: 3.7.1\n",
      "\n",
      "Este programa foi executado em:  2024-04-09 11:19:29.324375\n"
     ]
    }
   ],
   "source": [
    "%reload_ext watermark\n",
    "%watermark -a \"Danilo Temerloglou de Abreu\" --iversions\n",
    "# Grava o horário inicial da execução do programa\n",
    "inicio = datetime.datetime.now()\n",
    "print(\"Este programa foi executado em: \", inicio)"
   ]
  },
  {
   "cell_type": "markdown",
   "id": "a2fd8b89",
   "metadata": {},
   "source": [
    "# 5 - Inicializando uma sessão do Spark"
   ]
  },
  {
   "cell_type": "code",
   "execution_count": 6,
   "id": "f7dfd12a",
   "metadata": {},
   "outputs": [],
   "source": [
    "spark = SparkSession.builder.appName(\"SentimentAnalysis\").getOrCreate()"
   ]
  },
  {
   "cell_type": "markdown",
   "id": "78b60b1d",
   "metadata": {},
   "source": [
    "# 6 - lendo os dados como dataframe do Spark"
   ]
  },
  {
   "cell_type": "code",
   "execution_count": 7,
   "id": "3c45bee8",
   "metadata": {},
   "outputs": [
    {
     "name": "stdout",
     "output_type": "stream",
     "text": [
      "+----------------------------------------+-------------------+---------------------------+--------+---------+----+--------+----------+----------+------------+---------+----------+--------------+--------+------+-----+-----------+--------------+-------+-------------+\n",
      "|                                Datetime|           Tweet Id|                       Text|Username|Permalink|User|Outlinks|CountLinks|ReplyCount|RetweetCount|LikeCount|QuoteCount|ConversationId|Language|Source|Media|QuotedTweet|MentionedUsers|hashtag|hastag_counts|\n",
      "+----------------------------------------+-------------------+---------------------------+--------+---------+----+--------+----------+----------+------------+---------+----------+--------------+--------+------+-----+-----------+--------------+-------+-------------+\n",
      "|                    2023-01-22 13:44:...|1617156270871699456|ChatGPTで遊ぶの忘れてた！！|    null|     null|null|    null|      null|      null|        null|     null|      null|          null|    null|  null| null|       null|          null|   null|         null|\n",
      "|    書類作るコード書いてみてほしいのと、|               null|                       null|    null|     null|null|    null|      null|      null|        null|     null|      null|          null|    null|  null| null|       null|          null|   null|         null|\n",
      "|どこまで思考整理付き合ってくれるのかと、|               null|                       null|    null|     null|null|    null|      null|      null|        null|     null|      null|          null|    null|  null| null|       null|          null|   null|         null|\n",
      "|          ウミガメのスープやってみたい。|               null|                       null|    null|     null|null|    null|      null|      null|        null|     null|      null|          null|    null|  null| null|       null|          null|   null|         null|\n",
      "|                  あとは調べ物してくれ。|               null|                       null|    null|     null|null|    null|      null|      null|        null|     null|      null|          null|    null|  null| null|       null|          null|   null|         null|\n",
      "+----------------------------------------+-------------------+---------------------------+--------+---------+----+--------+----------+----------+------------+---------+----------+--------------+--------+------+-----+-----------+--------------+-------+-------------+\n",
      "only showing top 5 rows\n",
      "\n"
     ]
    }
   ],
   "source": [
    "df = spark.read.csv('chatgpt1.csv',header=True)\n",
    "df.show(5)"
   ]
  },
  {
   "cell_type": "markdown",
   "id": "9ce057be",
   "metadata": {},
   "source": [
    "# 7 - Verificando os dados"
   ]
  },
  {
   "cell_type": "code",
   "execution_count": 8,
   "id": "96c61e2c",
   "metadata": {},
   "outputs": [
    {
     "data": {
      "text/plain": [
       "pyspark.sql.dataframe.DataFrame"
      ]
     },
     "execution_count": 8,
     "metadata": {},
     "output_type": "execute_result"
    }
   ],
   "source": [
    "# Verificando o tipo de dataframe\n",
    "type(df)"
   ]
  },
  {
   "cell_type": "code",
   "execution_count": 9,
   "id": "62d88017",
   "metadata": {},
   "outputs": [
    {
     "name": "stdout",
     "output_type": "stream",
     "text": [
      "(82129, 20)\n"
     ]
    }
   ],
   "source": [
    "# Verificando o tamanho do dataframe spark\n",
    "print((df.count(), len(df.columns)))"
   ]
  },
  {
   "cell_type": "code",
   "execution_count": 10,
   "id": "99d68a01",
   "metadata": {},
   "outputs": [
    {
     "name": "stdout",
     "output_type": "stream",
     "text": [
      "root\n",
      " |-- Datetime: string (nullable = true)\n",
      " |-- Tweet Id: string (nullable = true)\n",
      " |-- Text: string (nullable = true)\n",
      " |-- Username: string (nullable = true)\n",
      " |-- Permalink: string (nullable = true)\n",
      " |-- User: string (nullable = true)\n",
      " |-- Outlinks: string (nullable = true)\n",
      " |-- CountLinks: string (nullable = true)\n",
      " |-- ReplyCount: string (nullable = true)\n",
      " |-- RetweetCount: string (nullable = true)\n",
      " |-- LikeCount: string (nullable = true)\n",
      " |-- QuoteCount: string (nullable = true)\n",
      " |-- ConversationId: string (nullable = true)\n",
      " |-- Language: string (nullable = true)\n",
      " |-- Source: string (nullable = true)\n",
      " |-- Media: string (nullable = true)\n",
      " |-- QuotedTweet: string (nullable = true)\n",
      " |-- MentionedUsers: string (nullable = true)\n",
      " |-- hashtag: string (nullable = true)\n",
      " |-- hastag_counts: string (nullable = true)\n",
      "\n",
      "None\n"
     ]
    }
   ],
   "source": [
    "# Verificando as colunas e tipos de dados\n",
    "print(df.printSchema())"
   ]
  },
  {
   "cell_type": "code",
   "execution_count": 11,
   "id": "75f53dad",
   "metadata": {},
   "outputs": [
    {
     "name": "stdout",
     "output_type": "stream",
     "text": [
      "+---------------------------+\n",
      "|                       Text|\n",
      "+---------------------------+\n",
      "|ChatGPTで遊ぶの忘れてた！！|\n",
      "|                       null|\n",
      "|                       null|\n",
      "|                       null|\n",
      "|                       null|\n",
      "+---------------------------+\n",
      "only showing top 5 rows\n",
      "\n"
     ]
    }
   ],
   "source": [
    "# Verificando a coluna Text de onde obteremos a análise de sentimentos\n",
    "df.select('Text').show(5)"
   ]
  },
  {
   "cell_type": "markdown",
   "id": "a4ee638d",
   "metadata": {},
   "source": [
    "# 8 - Tratamento dos dados"
   ]
  },
  {
   "cell_type": "code",
   "execution_count": 12,
   "id": "ffb63a54",
   "metadata": {},
   "outputs": [],
   "source": [
    "# Removendo valores null/NA\n",
    "df = df.dropna(subset=\"Text\")"
   ]
  },
  {
   "cell_type": "code",
   "execution_count": 13,
   "id": "a387ff27",
   "metadata": {},
   "outputs": [
    {
     "name": "stdout",
     "output_type": "stream",
     "text": [
      "+---------------------------+\n",
      "|                       Text|\n",
      "+---------------------------+\n",
      "|ChatGPTで遊ぶの忘れてた！！|\n",
      "|       https://twitter.c...|\n",
      "|       @AlexandrovnaIng ...|\n",
      "|       Schaut Euch an, w...|\n",
      "|       https://twitter.c...|\n",
      "+---------------------------+\n",
      "only showing top 5 rows\n",
      "\n"
     ]
    }
   ],
   "source": [
    "# Verificando algumas linhas\n",
    "df.select('Text').show(5)"
   ]
  },
  {
   "cell_type": "code",
   "execution_count": 14,
   "id": "e335d42b",
   "metadata": {},
   "outputs": [
    {
     "name": "stdout",
     "output_type": "stream",
     "text": [
      "(67159, 20)\n"
     ]
    }
   ],
   "source": [
    "# Verificando o tamanho do dataframe spark após a exclusao de textos nulos/NA\n",
    "print((df.count(), len(df.columns)))"
   ]
  },
  {
   "cell_type": "code",
   "execution_count": 15,
   "id": "035342e5",
   "metadata": {},
   "outputs": [
    {
     "name": "stderr",
     "output_type": "stream",
     "text": [
      "[nltk_data] Downloading package vader_lexicon to\n",
      "[nltk_data]     C:\\Users\\Chilov\\AppData\\Roaming\\nltk_data...\n",
      "[nltk_data]   Package vader_lexicon is already up-to-date!\n"
     ]
    },
    {
     "data": {
      "text/plain": [
       "True"
      ]
     },
     "execution_count": 15,
     "metadata": {},
     "output_type": "execute_result"
    }
   ],
   "source": [
    "# Instalando um dicionários do NLTK\n",
    "nltk.download('vader_lexicon')"
   ]
  },
  {
   "cell_type": "code",
   "execution_count": 16,
   "id": "8761b024",
   "metadata": {},
   "outputs": [],
   "source": [
    "# Comandos para adequar o texto para análise de sentimentos\n",
    "# Limpa o texto\n",
    "df_clean = df.select('Text', (lower(regexp_replace('Text', \"[^a-zA-Z\\\\s]\", \"\")).alias('Text_cleaned')))\n",
    "#df_clean = re.sub(r'[^\\w]', ' ', df_clean)\n",
    "\n",
    "# Tokeniza o texto\n",
    "tokenizer = Tokenizer(inputCol='Text_cleaned', outputCol='words_token')\n",
    "df_words_token = tokenizer.transform(df_clean).select('words_token')\n",
    "\n",
    "# Remove stop words\n",
    "remover = StopWordsRemover(inputCol='words_token', outputCol='words_clean')\n",
    "df_words_no_stopw = remover.transform(df_words_token).select('words_clean')\n",
    "\n",
    "# Aplica stemização ao texto\n",
    "stemmer = SnowballStemmer(language='english')\n",
    "stemmer_udf = udf(lambda tokens: [stemmer.stem(token) for token in tokens], ArrayType(StringType()))\n",
    "df_stemmed = df_words_no_stopw.withColumn(\"words_stemmed\", stemmer_udf(\"words_clean\")).select('words_stemmed')\n",
    "\n",
    "# Filtra comprimento de palavras maior que 3\n",
    "filter_length_udf = udf(lambda row: [x for x in row if len(x) >= 3], ArrayType(StringType()))\n",
    "df_final_words = df_stemmed.withColumn('words', filter_length_udf(col('words_stemmed')))"
   ]
  },
  {
   "cell_type": "code",
   "execution_count": 17,
   "id": "237d952d",
   "metadata": {},
   "outputs": [
    {
     "data": {
      "text/plain": [
       "pyspark.sql.dataframe.DataFrame"
      ]
     },
     "execution_count": 17,
     "metadata": {},
     "output_type": "execute_result"
    }
   ],
   "source": [
    "# Verificando o tipo de dataframe\n",
    "type(df_final_words)"
   ]
  },
  {
   "cell_type": "code",
   "execution_count": 18,
   "id": "1ca8afe8",
   "metadata": {},
   "outputs": [
    {
     "data": {
      "text/plain": [
       "['words_stemmed', 'words']"
      ]
     },
     "execution_count": 18,
     "metadata": {},
     "output_type": "execute_result"
    }
   ],
   "source": [
    "# Verificando as colunas resultantes\n",
    "df_final_words.columns"
   ]
  },
  {
   "cell_type": "code",
   "execution_count": 19,
   "id": "4d24d335",
   "metadata": {},
   "outputs": [
    {
     "name": "stdout",
     "output_type": "stream",
     "text": [
      "+--------------------+\n",
      "|         words_token|\n",
      "+--------------------+\n",
      "|           [chatgpt]|\n",
      "|[httpstwittercomm...|\n",
      "|[alexandrovnaing,...|\n",
      "|[schaut, euch, an...|\n",
      "|[httpstwittercomc...|\n",
      "+--------------------+\n",
      "only showing top 5 rows\n",
      "\n"
     ]
    }
   ],
   "source": [
    "# Verificando algumas linhas de uma coluna\n",
    "df_words_token.select('words_token').show(5)"
   ]
  },
  {
   "cell_type": "code",
   "execution_count": 20,
   "id": "80ea81fa",
   "metadata": {},
   "outputs": [
    {
     "name": "stdout",
     "output_type": "stream",
     "text": [
      "+--------------------+\n",
      "|               words|\n",
      "+--------------------+\n",
      "|           [chatgpt]|\n",
      "|[httpstwittercomm...|\n",
      "|[alexandrovna, pr...|\n",
      "|[schaut, euch, fo...|\n",
      "|[httpstwittercomc...|\n",
      "+--------------------+\n",
      "only showing top 5 rows\n",
      "\n"
     ]
    }
   ],
   "source": [
    "# Verificando algumas linhas de outra coluna\n",
    "df_final_words.select('words').show(5)"
   ]
  },
  {
   "cell_type": "markdown",
   "id": "f2b3661c",
   "metadata": {},
   "source": [
    "# 9 - Efetuando a análise de sentimentos"
   ]
  },
  {
   "cell_type": "code",
   "execution_count": 21,
   "id": "7acaefbd",
   "metadata": {},
   "outputs": [],
   "source": [
    "# Inicialize o SentimentIntensityAnalyzer do NLTK\n",
    "sia = SentimentIntensityAnalyzer()"
   ]
  },
  {
   "cell_type": "code",
   "execution_count": 22,
   "id": "39d1aadf",
   "metadata": {},
   "outputs": [],
   "source": [
    "# Cria função que usa o SentimentIntensityAnalyzer para obter a pontuação de polaridade composta\n",
    "def analyze_sentiment(text):\n",
    "    score = sia.polarity_scores(text)[\"compound\"]\n",
    "    return score"
   ]
  },
  {
   "cell_type": "code",
   "execution_count": 23,
   "id": "483a0512",
   "metadata": {},
   "outputs": [],
   "source": [
    "# Registra a função como uma UDF\n",
    "analyze_sentiment_udf = udf(analyze_sentiment, FloatType())\n",
    "\n",
    "# Adicione uma nova coluna 'sentiment' com as pontuações de sentimentos\n",
    "df_with_sentiment = df_final_words.withColumn(\"sentiment\", analyze_sentiment_udf(df_final_words[\"words_stemmed\"]))"
   ]
  },
  {
   "cell_type": "code",
   "execution_count": 24,
   "id": "fa3d6f06",
   "metadata": {},
   "outputs": [],
   "source": [
    "# Cria função que separa a polaridade composta em sentimento positivo, negativo ou neutro\n",
    "def categorize_sentiment(score):\n",
    "    if score > 0:\n",
    "        return \"positivo\"\n",
    "    elif score < 0:\n",
    "        return \"negativo\"\n",
    "    else:\n",
    "        return \"neutro\"\n",
    "\n",
    "# Registre a função como uma UDF\n",
    "categorize_sentiment_udf = udf(categorize_sentiment, StringType())\n",
    "\n",
    "# Adicione uma nova coluna 'sentiment_category' com as categorias de sentimentos\n",
    "df_with_sentiment = df_with_sentiment.withColumn(\"sentiment_category\", categorize_sentiment_udf(df_with_sentiment[\"sentiment\"]))"
   ]
  },
  {
   "cell_type": "code",
   "execution_count": 25,
   "id": "6c923e40",
   "metadata": {},
   "outputs": [],
   "source": [
    "# Cria um dataframe somente com os valores e categoria de sentimento\n",
    "selected_df = df_with_sentiment.select(\"sentiment\", \"sentiment_category\")"
   ]
  },
  {
   "cell_type": "code",
   "execution_count": 26,
   "id": "8edb6a1f",
   "metadata": {},
   "outputs": [
    {
     "data": {
      "text/plain": [
       "pyspark.sql.dataframe.DataFrame"
      ]
     },
     "execution_count": 26,
     "metadata": {},
     "output_type": "execute_result"
    }
   ],
   "source": [
    "# Verifica tipo do novo dataframe criado\n",
    "type(selected_df)"
   ]
  },
  {
   "cell_type": "code",
   "execution_count": 27,
   "id": "99302c39",
   "metadata": {},
   "outputs": [
    {
     "name": "stdout",
     "output_type": "stream",
     "text": [
      "+------------------+\n",
      "|sentiment_category|\n",
      "+------------------+\n",
      "|            neutro|\n",
      "|            neutro|\n",
      "|            neutro|\n",
      "|            neutro|\n",
      "|            neutro|\n",
      "+------------------+\n",
      "only showing top 5 rows\n",
      "\n"
     ]
    }
   ],
   "source": [
    "# Verifica algumas linhas da coluna sentiment_category\n",
    "selected_df.select('sentiment_category').show(5)"
   ]
  },
  {
   "cell_type": "code",
   "execution_count": 28,
   "id": "704acd74",
   "metadata": {},
   "outputs": [],
   "source": [
    "# Cria um dataframe do Pandas para posterior criação de gráficos\n",
    "df_pandas = selected_df.toPandas()"
   ]
  },
  {
   "cell_type": "code",
   "execution_count": 29,
   "id": "be2b83ad",
   "metadata": {},
   "outputs": [
    {
     "data": {
      "text/plain": [
       "['sentiment', 'sentiment_category']"
      ]
     },
     "execution_count": 29,
     "metadata": {},
     "output_type": "execute_result"
    }
   ],
   "source": [
    "# Verifica as colunas do dataframe Pandas criado\n",
    "sorted(df_pandas)"
   ]
  },
  {
   "cell_type": "code",
   "execution_count": 30,
   "id": "f7d3c610",
   "metadata": {},
   "outputs": [
    {
     "data": {
      "text/plain": [
       "sentiment  sentiment_category\n",
       " 0.0000    neutro                67117\n",
       " 0.4588    positivo                  5\n",
       " 0.5859    positivo                  4\n",
       " 0.4215    positivo                  4\n",
       "-0.6124    negativo                  2\n",
       " 0.3612    positivo                  2\n",
       "-0.5574    negativo                  2\n",
       " 0.5106    positivo                  2\n",
       " 0.1531    positivo                  2\n",
       "-0.5859    negativo                  2\n",
       " 0.2732    positivo                  2\n",
       " 0.5719    positivo                  1\n",
       " 0.5423    positivo                  1\n",
       " 0.4019    positivo                  1\n",
       " 0.3818    positivo                  1\n",
       " 0.2500    positivo                  1\n",
       " 0.3182    positivo                  1\n",
       " 0.2263    positivo                  1\n",
       " 0.0772    positivo                  1\n",
       "-0.1027    negativo                  1\n",
       "-0.1280    negativo                  1\n",
       "-0.2960    negativo                  1\n",
       "-0.3400    negativo                  1\n",
       "-0.3612    negativo                  1\n",
       "-0.4767    negativo                  1\n",
       " 0.5994    positivo                  1\n",
       "dtype: int64"
      ]
     },
     "execution_count": 30,
     "metadata": {},
     "output_type": "execute_result"
    }
   ],
   "source": [
    "# Verifica quantidade de sentimentos positivos, negativos e neutros\n",
    "df_pandas.value_counts()"
   ]
  },
  {
   "cell_type": "code",
   "execution_count": 31,
   "id": "26ec9478",
   "metadata": {},
   "outputs": [
    {
     "data": {
      "text/plain": [
       "neutro      99.937462\n",
       "positivo     0.044670\n",
       "negativo     0.017868\n",
       "Name: sentiment_category, dtype: float64"
      ]
     },
     "execution_count": 31,
     "metadata": {},
     "output_type": "execute_result"
    }
   ],
   "source": [
    "# Verifica numericamente a polarização dos sentimentos\n",
    "df_pandas['sentiment_category'].value_counts(normalize=True)*100"
   ]
  },
  {
   "cell_type": "code",
   "execution_count": 32,
   "id": "072ff356",
   "metadata": {},
   "outputs": [],
   "source": [
    "# Cria dataframe com as porcentagens de sentimentos positivos, negativos e neutros\n",
    "df_sentiment = df_pandas['sentiment_category'].value_counts(normalize=True)*100"
   ]
  },
  {
   "cell_type": "code",
   "execution_count": 33,
   "id": "efff11b0",
   "metadata": {},
   "outputs": [
    {
     "data": {
      "text/plain": [
       "Text(0, 0.5, 'Porcentagem (%)')"
      ]
     },
     "execution_count": 33,
     "metadata": {},
     "output_type": "execute_result"
    },
    {
     "data": {
      "image/png": "[encoded data removed]",
      "text/plain": [
       "<Figure size 640x480 with 1 Axes>"
      ]
     },
     "metadata": {},
     "output_type": "display_data"
    }
   ],
   "source": [
    "# Cria o gráfico de análise de sentimentos\n",
    "df_sentiment.plot.bar(color='royalblue', ec='k', alpha=0.6)\n",
    "plt.xticks(rotation=360, fontsize=12)\n",
    "plt.yticks(fontsize=12)\n",
    "plt.xlabel('Avaliação do sentimento', fontsize=13)\n",
    "plt.ylabel('Porcentagem (%)', fontsize=13)"
   ]
  },
  {
   "cell_type": "code",
   "execution_count": 34,
   "id": "ba91bba6",
   "metadata": {},
   "outputs": [],
   "source": [
    "# Conclusão: No geral, o sentimento que predomina em relação ao chatGPT, mostrado nestes dados, é neutro "
   ]
  }
 ],
 "metadata": {
  "kernelspec": {
   "display_name": "Python 3 (ipykernel)",
   "language": "python",
   "name": "python3"
  },
  "language_info": {
   "codemirror_mode": {
    "name": "ipython",
    "version": 3
   },
   "file_extension": ".py",
   "mimetype": "text/x-python",
   "name": "python",
   "nbconvert_exporter": "python",
   "pygments_lexer": "ipython3",
   "version": "3.9.13"
  }
 },
 "nbformat": 4,
 "nbformat_minor": 5
}
